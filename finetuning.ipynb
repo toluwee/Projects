{
 "cells": [
  {
   "metadata": {},
   "cell_type": "code",
   "outputs": [],
   "execution_count": null,
   "source": "",
   "id": "c4ca7b0d837a47bc"
  },
  {
   "metadata": {
    "ExecuteTime": {
     "end_time": "2025-06-02T16:43:35.407702Z",
     "start_time": "2025-06-02T16:43:34.051212Z"
    }
   },
   "cell_type": "code",
   "source": "!pip3 install torch  --index-url https://download.pytorch.org/whl/cu128\n",
   "id": "88a40a64eb1cdc08",
   "outputs": [
    {
     "name": "stdout",
     "output_type": "stream",
     "text": [
      "Defaulting to user installation because normal site-packages is not writeable\n",
      "Looking in indexes: https://download.pytorch.org/whl/cu128\n",
      "Requirement already satisfied: torch in c:\\program files\\python313\\lib\\site-packages (2.7.0)\n",
      "Requirement already satisfied: filelock in c:\\program files\\python313\\lib\\site-packages (from torch) (3.18.0)\n",
      "Requirement already satisfied: typing-extensions>=4.10.0 in c:\\program files\\python313\\lib\\site-packages (from torch) (4.13.2)\n",
      "Requirement already satisfied: sympy>=1.13.3 in c:\\program files\\python313\\lib\\site-packages (from torch) (1.14.0)\n",
      "Requirement already satisfied: networkx in c:\\program files\\python313\\lib\\site-packages (from torch) (3.4.2)\n",
      "Requirement already satisfied: jinja2 in c:\\program files\\python313\\lib\\site-packages (from torch) (3.1.6)\n",
      "Requirement already satisfied: fsspec in c:\\users\\user\\appdata\\roaming\\python\\python313\\site-packages (from torch) (2025.3.0)\n",
      "Requirement already satisfied: setuptools in c:\\program files\\python313\\lib\\site-packages (from torch) (80.8.0)\n",
      "Requirement already satisfied: mpmath<1.4,>=1.1.0 in c:\\program files\\python313\\lib\\site-packages (from sympy>=1.13.3->torch) (1.3.0)\n",
      "Requirement already satisfied: MarkupSafe>=2.0 in c:\\program files\\python313\\lib\\site-packages (from jinja2->torch) (3.0.2)\n"
     ]
    }
   ],
   "execution_count": 6
  },
  {
   "metadata": {
    "ExecuteTime": {
     "end_time": "2025-06-02T16:43:48.735309Z",
     "start_time": "2025-06-02T16:43:48.730492Z"
    }
   },
   "cell_type": "code",
   "source": [
    "import torch\n",
    "print(torch.cuda.is_available())\n",
    "print(torch.cuda.device_count())\n",
    "print(torch.cuda.get_device_name(0) if torch.cuda.is_available() else \"No GPU found\")"
   ],
   "id": "3ca4416a93afc3eb",
   "outputs": [
    {
     "name": "stdout",
     "output_type": "stream",
     "text": [
      "False\n",
      "0\n",
      "No GPU found\n"
     ]
    }
   ],
   "execution_count": 8
  },
  {
   "metadata": {},
   "cell_type": "markdown",
   "source": "Prerequisites",
   "id": "45bc35b5ac032e86"
  },
  {
   "metadata": {
    "ExecuteTime": {
     "end_time": "2025-06-02T01:13:55.912588Z",
     "start_time": "2025-06-02T01:13:54.460010Z"
    }
   },
   "cell_type": "code",
   "source": "pip install transformers datasets torch accelerate",
   "id": "11f115ac56b41531",
   "outputs": [
    {
     "name": "stdout",
     "output_type": "stream",
     "text": [
      "Defaulting to user installation because normal site-packages is not writeable\n",
      "Requirement already satisfied: transformers in c:\\users\\user\\appdata\\roaming\\python\\python313\\site-packages (4.52.4)\n",
      "Requirement already satisfied: datasets in c:\\users\\user\\appdata\\roaming\\python\\python313\\site-packages (3.6.0)\n",
      "Requirement already satisfied: torch in c:\\program files\\python313\\lib\\site-packages (2.7.0)\n",
      "Requirement already satisfied: accelerate in c:\\users\\user\\appdata\\roaming\\python\\python313\\site-packages (1.7.0)\n",
      "Requirement already satisfied: filelock in c:\\program files\\python313\\lib\\site-packages (from transformers) (3.18.0)\n",
      "Requirement already satisfied: huggingface-hub<1.0,>=0.30.0 in c:\\users\\user\\appdata\\roaming\\python\\python313\\site-packages (from transformers) (0.32.3)\n",
      "Requirement already satisfied: numpy>=1.17 in c:\\users\\user\\appdata\\roaming\\python\\python313\\site-packages (from transformers) (2.2.6)\n",
      "Requirement already satisfied: packaging>=20.0 in c:\\users\\user\\appdata\\roaming\\python\\python313\\site-packages (from transformers) (25.0)\n",
      "Requirement already satisfied: pyyaml>=5.1 in c:\\users\\user\\appdata\\roaming\\python\\python313\\site-packages (from transformers) (6.0.2)\n",
      "Requirement already satisfied: regex!=2019.12.17 in c:\\users\\user\\appdata\\roaming\\python\\python313\\site-packages (from transformers) (2024.11.6)\n",
      "Requirement already satisfied: requests in c:\\users\\user\\appdata\\roaming\\python\\python313\\site-packages (from transformers) (2.32.3)\n",
      "Requirement already satisfied: tokenizers<0.22,>=0.21 in c:\\users\\user\\appdata\\roaming\\python\\python313\\site-packages (from transformers) (0.21.1)\n",
      "Requirement already satisfied: safetensors>=0.4.3 in c:\\users\\user\\appdata\\roaming\\python\\python313\\site-packages (from transformers) (0.5.3)\n",
      "Requirement already satisfied: tqdm>=4.27 in c:\\users\\user\\appdata\\roaming\\python\\python313\\site-packages (from transformers) (4.67.1)\n",
      "Requirement already satisfied: fsspec>=2023.5.0 in c:\\users\\user\\appdata\\roaming\\python\\python313\\site-packages (from huggingface-hub<1.0,>=0.30.0->transformers) (2025.3.0)\n",
      "Requirement already satisfied: typing-extensions>=3.7.4.3 in c:\\program files\\python313\\lib\\site-packages (from huggingface-hub<1.0,>=0.30.0->transformers) (4.13.2)\n",
      "Requirement already satisfied: pyarrow>=15.0.0 in c:\\users\\user\\appdata\\roaming\\python\\python313\\site-packages (from datasets) (20.0.0)\n",
      "Requirement already satisfied: dill<0.3.9,>=0.3.0 in c:\\users\\user\\appdata\\roaming\\python\\python313\\site-packages (from datasets) (0.3.8)\n",
      "Requirement already satisfied: pandas in c:\\users\\user\\appdata\\roaming\\python\\python313\\site-packages (from datasets) (2.2.3)\n",
      "Requirement already satisfied: xxhash in c:\\users\\user\\appdata\\roaming\\python\\python313\\site-packages (from datasets) (3.5.0)\n",
      "Requirement already satisfied: multiprocess<0.70.17 in c:\\users\\user\\appdata\\roaming\\python\\python313\\site-packages (from datasets) (0.70.16)\n",
      "Requirement already satisfied: aiohttp!=4.0.0a0,!=4.0.0a1 in c:\\users\\user\\appdata\\roaming\\python\\python313\\site-packages (from fsspec[http]<=2025.3.0,>=2023.1.0->datasets) (3.12.6)\n",
      "Requirement already satisfied: sympy>=1.13.3 in c:\\program files\\python313\\lib\\site-packages (from torch) (1.14.0)\n",
      "Requirement already satisfied: networkx in c:\\program files\\python313\\lib\\site-packages (from torch) (3.4.2)\n",
      "Requirement already satisfied: jinja2 in c:\\program files\\python313\\lib\\site-packages (from torch) (3.1.6)\n",
      "Requirement already satisfied: setuptools in c:\\program files\\python313\\lib\\site-packages (from torch) (80.8.0)\n",
      "Requirement already satisfied: psutil in c:\\users\\user\\appdata\\roaming\\python\\python313\\site-packages (from accelerate) (7.0.0)\n",
      "Requirement already satisfied: aiohappyeyeballs>=2.5.0 in c:\\users\\user\\appdata\\roaming\\python\\python313\\site-packages (from aiohttp!=4.0.0a0,!=4.0.0a1->fsspec[http]<=2025.3.0,>=2023.1.0->datasets) (2.6.1)\n",
      "Requirement already satisfied: aiosignal>=1.1.2 in c:\\users\\user\\appdata\\roaming\\python\\python313\\site-packages (from aiohttp!=4.0.0a0,!=4.0.0a1->fsspec[http]<=2025.3.0,>=2023.1.0->datasets) (1.3.2)\n",
      "Requirement already satisfied: attrs>=17.3.0 in c:\\users\\user\\appdata\\roaming\\python\\python313\\site-packages (from aiohttp!=4.0.0a0,!=4.0.0a1->fsspec[http]<=2025.3.0,>=2023.1.0->datasets) (25.3.0)\n",
      "Requirement already satisfied: frozenlist>=1.1.1 in c:\\users\\user\\appdata\\roaming\\python\\python313\\site-packages (from aiohttp!=4.0.0a0,!=4.0.0a1->fsspec[http]<=2025.3.0,>=2023.1.0->datasets) (1.6.0)\n",
      "Requirement already satisfied: multidict<7.0,>=4.5 in c:\\users\\user\\appdata\\roaming\\python\\python313\\site-packages (from aiohttp!=4.0.0a0,!=4.0.0a1->fsspec[http]<=2025.3.0,>=2023.1.0->datasets) (6.4.4)\n",
      "Requirement already satisfied: propcache>=0.2.0 in c:\\users\\user\\appdata\\roaming\\python\\python313\\site-packages (from aiohttp!=4.0.0a0,!=4.0.0a1->fsspec[http]<=2025.3.0,>=2023.1.0->datasets) (0.3.1)\n",
      "Requirement already satisfied: yarl<2.0,>=1.17.0 in c:\\users\\user\\appdata\\roaming\\python\\python313\\site-packages (from aiohttp!=4.0.0a0,!=4.0.0a1->fsspec[http]<=2025.3.0,>=2023.1.0->datasets) (1.20.0)\n",
      "Requirement already satisfied: idna>=2.0 in c:\\users\\user\\appdata\\roaming\\python\\python313\\site-packages (from yarl<2.0,>=1.17.0->aiohttp!=4.0.0a0,!=4.0.0a1->fsspec[http]<=2025.3.0,>=2023.1.0->datasets) (3.10)\n",
      "Requirement already satisfied: charset-normalizer<4,>=2 in c:\\users\\user\\appdata\\roaming\\python\\python313\\site-packages (from requests->transformers) (3.4.2)\n",
      "Requirement already satisfied: urllib3<3,>=1.21.1 in c:\\users\\user\\appdata\\roaming\\python\\python313\\site-packages (from requests->transformers) (2.4.0)\n",
      "Requirement already satisfied: certifi>=2017.4.17 in c:\\users\\user\\appdata\\roaming\\python\\python313\\site-packages (from requests->transformers) (2025.4.26)\n",
      "Requirement already satisfied: mpmath<1.4,>=1.1.0 in c:\\program files\\python313\\lib\\site-packages (from sympy>=1.13.3->torch) (1.3.0)\n",
      "Requirement already satisfied: colorama in c:\\users\\user\\appdata\\roaming\\python\\python313\\site-packages (from tqdm>=4.27->transformers) (0.4.6)\n",
      "Requirement already satisfied: MarkupSafe>=2.0 in c:\\program files\\python313\\lib\\site-packages (from jinja2->torch) (3.0.2)\n",
      "Requirement already satisfied: python-dateutil>=2.8.2 in c:\\users\\user\\appdata\\roaming\\python\\python313\\site-packages (from pandas->datasets) (2.9.0.post0)\n",
      "Requirement already satisfied: pytz>=2020.1 in c:\\users\\user\\appdata\\roaming\\python\\python313\\site-packages (from pandas->datasets) (2025.2)\n",
      "Requirement already satisfied: tzdata>=2022.7 in c:\\users\\user\\appdata\\roaming\\python\\python313\\site-packages (from pandas->datasets) (2025.2)\n",
      "Requirement already satisfied: six>=1.5 in c:\\users\\user\\appdata\\roaming\\python\\python313\\site-packages (from python-dateutil>=2.8.2->pandas->datasets) (1.17.0)\n",
      "Note: you may need to restart the kernel to use updated packages.\n"
     ]
    }
   ],
   "execution_count": 10
  },
  {
   "metadata": {},
   "cell_type": "markdown",
   "source": "1. Preparing Dataset",
   "id": "c68af4f506ff5cf5"
  },
  {
   "cell_type": "code",
   "id": "initial_id",
   "metadata": {
    "collapsed": true,
    "ExecuteTime": {
     "end_time": "2025-06-02T01:13:57.062181Z",
     "start_time": "2025-06-02T01:13:55.933633Z"
    }
   },
   "source": [
    "from datasets import load_dataset\n",
    "\n",
    "dataset = load_dataset(\"tiny_shakespeare\", trust_remote_code=True)\n"
   ],
   "outputs": [],
   "execution_count": 11
  },
  {
   "metadata": {
    "ExecuteTime": {
     "end_time": "2025-06-02T01:13:57.077684Z",
     "start_time": "2025-06-02T01:13:57.072824Z"
    }
   },
   "cell_type": "code",
   "source": "dataset",
   "id": "6d55e8e71e207d0d",
   "outputs": [
    {
     "data": {
      "text/plain": [
       "DatasetDict({\n",
       "    train: Dataset({\n",
       "        features: ['text'],\n",
       "        num_rows: 1\n",
       "    })\n",
       "    validation: Dataset({\n",
       "        features: ['text'],\n",
       "        num_rows: 1\n",
       "    })\n",
       "    test: Dataset({\n",
       "        features: ['text'],\n",
       "        num_rows: 1\n",
       "    })\n",
       "})"
      ]
     },
     "execution_count": 12,
     "metadata": {},
     "output_type": "execute_result"
    }
   ],
   "execution_count": 12
  },
  {
   "metadata": {
    "ExecuteTime": {
     "end_time": "2025-06-02T01:13:57.108700Z",
     "start_time": "2025-06-02T01:13:57.103253Z"
    }
   },
   "cell_type": "code",
   "source": "dataset[\"test\"][0]",
   "id": "f0b0c4a73394528d",
   "outputs": [
    {
     "data": {
      "text/plain": [
       "{'text': \"rance ta'en\\nAs shall with either part's agreement stand?\\n\\nBAPTISTA:\\nNot in my house, Lucentio; for, you know,\\nPitchers have ears, and I have many servants:\\nBesides, old Gremio is hearkening still;\\nAnd happily we might be interrupted.\\n\\nTRANIO:\\nThen at my lodging, an it like you:\\nThere doth my father lie; and there, this night,\\nWe'll pass the business privately and well.\\nSend for your daughter by your servant here:\\nMy boy shall fetch the scrivener presently.\\nThe worst is this, that, at so slender warning,\\nYou are like to have a thin and slender pittance.\\n\\nBAPTISTA:\\nIt likes me well. Biondello, hie you home,\\nAnd bid Bianca make her ready straight;\\nAnd, if you will, tell what hath happened,\\nLucentio's father is arrived in Padua,\\nAnd how she's like to be Lucentio's wife.\\n\\nBIONDELLO:\\nI pray the gods she may with all my heart!\\n\\nTRANIO:\\nDally not with the gods, but get thee gone.\\nSignior Baptista, shall I lead the way?\\nWelcome! one mess is like to be your cheer:\\nCome, sir; we will better it in Pisa.\\n\\nBAPTISTA:\\nI follow you.\\n\\nBIONDELLO:\\nCambio!\\n\\nLUCENTIO:\\nWhat sayest thou, Biondello?\\n\\nBIONDELLO:\\nYou saw my master wink and laugh upon you?\\n\\nLUCENTIO:\\nBiondello, what of that?\\n\\nBIONDELLO:\\nFaith, nothing; but has left me here behind, to\\nexpound the meaning or moral of his signs and tokens.\\n\\nLUCENTIO:\\nI pray thee, moralize them.\\n\\nBIONDELLO:\\nThen thus. Baptista is safe, talking with the\\ndeceiving father of a deceitful son.\\n\\nLUCENTIO:\\nAnd what of him?\\n\\nBIONDELLO:\\nHis daughter is to be brought by you to the supper.\\n\\nLUCENTIO:\\nAnd then?\\n\\nBIONDELLO:\\nThe old priest of Saint Luke's church is at your\\ncommand at all hours.\\n\\nLUCENTIO:\\nAnd what of all this?\\n\\nBIONDELLO:\\nI cannot tell; expect they are busied about a\\ncounterfeit assurance: take you assurance of her,\\n'cum privilegio ad imprimendum solum:' to the\\nchurch; take the priest, clerk, and some sufficient\\nhonest witnesses: If this be not that you look for,\\nI have no more to say, But bid Bianca farewell for\\never and a day.\\n\\nLUCENTIO:\\nHearest thou, Biondello?\\n\\nBIONDELLO:\\nI cannot tarry: I knew a wench married in an\\nafternoon as she went to the garden for parsley to\\nstuff a rabbit; and so may you, sir: and so, adieu,\\nsir. My master hath appointed me to go to Saint\\nLuke's, to bid the priest be ready to come against\\nyou come with your appendix.\\n\\nLUCENTIO:\\nI may, and will, if she be so contented:\\nShe will be pleased; then wherefore should I doubt?\\nHap what hap may, I'll roundly go about her:\\nIt shall go hard if Cambio go without her.\\n\\nPETRUCHIO:\\nCome on, i' God's name; once more toward our father's.\\nGood Lord, how bright and goodly shines the moon!\\n\\nKATHARINA:\\nThe moon! the sun: it is not moonlight now.\\n\\nPETRUCHIO:\\nI say it is the moon that shines so bright.\\n\\nKATHARINA:\\nI know it is the sun that shines so bright.\\n\\nPETRUCHIO:\\nNow, by my mother's son, and that's myself,\\nIt shall be moon, or star, or what I list,\\nOr ere I journey to your father's house.\\nGo on, and fetch our horses back again.\\nEvermore cross'd and cross'd; nothing but cross'd!\\n\\nHORTENSIO:\\nSay as he says, or we shall never go.\\n\\nKATHARINA:\\nForward, I pray, since we have come so far,\\nAnd be it moon, or sun, or what you please:\\nAn if you please to call it a rush-candle,\\nHenceforth I vow it shall be so for me.\\n\\nPETRUCHIO:\\nI say it is the moon.\\n\\nKATHARINA:\\nI know it is the moon.\\n\\nPETRUCHIO:\\nNay, then you lie: it is the blessed sun.\\n\\nKATHARINA:\\nThen, God be bless'd, it is the blessed sun:\\nBut sun it is not, when you say it is not;\\nAnd the moon changes even as your mind.\\nWhat you will have it named, even that it is;\\nAnd so it shall be so for Katharina.\\n\\nHORTENSIO:\\nPetruchio, go thy ways; the field is won.\\n\\nPETRUCHIO:\\nWell, forward, forward! thus the bowl should run,\\nAnd not unluckily against the bias.\\nBut, soft! company is coming here.\\nGood morrow, gentle mistress: where away?\\nTell me, sweet Kate, and tell me truly too,\\nHast thou beheld a fresher gentlewoman?\\nSuch war of white and red within her cheeks!\\nWhat stars do spangle heaven with such beauty,\\nAs those two eyes become that heavenly face?\\nFair lovely maid, once more good day to thee.\\nSweet Kate, embrace her for her beauty's sake.\\n\\nHORTENSIO:\\nA' will make the man mad, to make a woman of him.\\n\\nKATHARINA:\\nYoung budding virgin, fair and fresh and sweet,\\nWhither away, or where is thy abode?\\nHappy the parents of so fair a child;\\nHappier the man, whom favourable stars\\nAllot thee for his lovely bed-fellow!\\n\\nPETRUCHIO:\\nWhy, how now, Kate! I hope thou art not mad:\\nThis is a man, old, wrinkled, faded, wither'd,\\nAnd not a maiden, as thou say'st he is.\\n\\nKATHARINA:\\nPardon, old father, my mistaking eyes,\\nThat have been so bedazzled with the sun\\nThat everything I look on seemeth green:\\nNow I perceive thou art a reverend father;\\nPardon, I pray thee, for my mad mistaking.\\n\\nPETRUCHIO:\\nDo, good old grandsire; and withal make known\\nWhich way thou travellest: if along with us,\\nWe shall be joyful of thy company.\\n\\nVINCENTIO:\\nFair sir, and you my merry mistress,\\nThat with your strange encounter much amazed me,\\nMy name is call'd Vincentio; my dwelling Pisa;\\nAnd bound I am to Padua; there to visit\\nA son of mine, which long I have not seen.\\n\\nPETRUCHIO:\\nWhat is his name?\\n\\nVINCENTIO:\\nLucentio, gentle sir.\\n\\nPETRUCHIO:\\nHappily we met; the happier for thy son.\\nAnd now by law, as well as reverend age,\\nI may entitle thee my loving father:\\nThe sister to my wife, this gentlewoman,\\nThy son by this hath married. Wonder not,\\nNor be grieved: she is of good esteem,\\nHer dowery wealthy, and of worthy birth;\\nBeside, so qualified as may beseem\\nThe spouse of any noble gentleman.\\nLet me embrace with old Vincentio,\\nAnd wander we to see thy honest son,\\nWho will of thy arrival be full joyous.\\n\\nVINCENTIO:\\nBut is it true? or else is it your pleasure,\\nLike pleasant travellers, to break a jest\\nUpon the company you overtake?\\n\\nHORTENSIO:\\nI do assure thee, father, so it is.\\n\\nPETRUCHIO:\\nCome, go along, and see the truth hereof;\\nFor our first merriment hath made thee jealous.\\n\\nHORTENSIO:\\nWell, Petruchio, this has put me in heart.\\nHave to my widow! and if she be froward,\\nThen hast thou taught Hortensio to be untoward.\\n\\nBIONDELLO:\\nSoftly and swiftly, sir; for the priest is ready.\\n\\nLUCENTIO:\\nI fly, Biondello: but they may chance to need thee\\nat home; therefore leave us.\\n\\nBIONDELLO:\\nNay, faith, I'll see the church o' your back; and\\nthen come back to my master's as soon as I can.\\n\\nGREMIO:\\nI marvel Cambio comes not all this while.\\n\\nPETRUCHIO:\\nSir, here's the door, this is Lucentio's house:\\nMy father's bears more toward the market-place;\\nThither must I, and here I leave you, sir.\\n\\nVINCENTIO:\\nYou shall not choose but drink before you go:\\nI think I shall command your welcome here,\\nAnd, by all likelihood, some cheer is toward.\\n\\nGREMIO:\\nThey're busy within; you were best knock louder.\\n\\nPedant:\\nWhat's he that knocks as he would beat down the gate?\\n\\nVINCENTIO:\\nIs Signior Lucentio within, sir?\\n\\nPedant:\\nHe's within, sir, but not to be spoken withal.\\n\\nVINCENTIO:\\nWhat if a man bring him a hundred pound or two, to\\nmake merry withal?\\n\\nPedant:\\nKeep your hundred pounds to yourself: he shall\\nneed none, so long as I live.\\n\\nPETRUCHIO:\\nNay, I told you your son was well beloved in Padua.\\nDo you hear, sir? To leave frivolous circumstances,\\nI pray you, tell Signior Lucentio that his father is\\ncome from Pisa, and is here at the door to speak with him.\\n\\nPedant:\\nThou liest: his father is come from Padua and here\\nlooking out at the window.\\n\\nVINCENTIO:\\nArt thou his father?\\n\\nPedant:\\nAy, sir; so his mother says, if I may believe her.\\n\\nPETRUCHIO:\\n\\nPedant:\\nLay hands on the villain: I believe a' means to\\ncozen somebody in this city under my countenance.\\n\\nBIONDELLO:\\nI have seen them in the church together: God send\\n'em good shipping! But who is here? mine old\\nmaster Vincentio! now we are undone and brought to nothing.\\n\\nVINCENTIO:\\n\\nBIONDELLO:\\nHope I may choose, sir.\\n\\nVINCENTIO:\\nCome hither, you rogue. What, have you forgot me?\\n\\nBIONDELLO:\\nForgot you! no, sir: I could not forget you, for I\\nnever saw you before in all my life.\\n\\nVINCENTIO:\\nWhat, you notorious villain, didst thou never see\\nthy master's father, Vincentio?\\n\\nBIONDELLO:\\nWhat, my old worshipful old master? yes, marry, sir:\\nsee where he looks out of the window.\\n\\nVINCENTIO:\\nIs't so, indeed.\\n\\nBIONDELLO:\\nHelp, help, help! here's a madman will murder me.\\n\\nPedant:\\nHelp, son! help, Signior Baptista!\\n\\nPETRUCHIO:\\nPrithee, Kate, let's stand aside and see the end of\\nthis controversy.\\n\\nTRANIO:\\nSir, what are you that offer to beat my servant?\\n\\nVINCENTIO:\\nWhat am I, sir! nay, what are you, sir? O immortal\\ngods! O fine villain! A silken doublet! a velvet\\nhose! a scarlet cloak! and a copatain hat! O, I\\nam undone! I am undone! while I play the good\\nhusband at home, my son and my servant spend all at\\nthe university.\\n\\nTRANIO:\\nHow now! what's the matter?\\n\\nBAPTISTA:\\nWhat, is the man lunatic?\\n\\nTRANIO:\\nSir, you seem a sober ancient gentleman by your\\nhabit, but your words show you a madman. Why, sir,\\nwhat 'cerns it you if I wear pearl and gold? I\\nthank my good father, I am able to maintain it.\\n\\nVINCENTIO:\\nThy father! O villain! he is a sailmaker in Bergamo.\\n\\nBAPTISTA:\\nYou mistake, sir, you mistake, sir. Pray, what do\\nyou think is his name?\\n\\nVINCENTIO:\\nHis name! as if I knew not his name: I have brought\\nhim up ever since he was three years old, and his\\nname is Tranio.\\n\\nPedant:\\nAway, away, mad ass! his name is Lucentio and he is\\nmine only son, and heir to the lands of me, Signior Vincentio.\\n\\nVINCENTIO:\\nLucentio! O, he hath murdered his master! Lay hold\\non him, I charge you, in the duke's name. O, my\\nson, my son! Tell me, thou villain, where is my son Lucentio?\\n\\nTRANIO:\\nCall forth an officer.\\nCarry this mad knave to the gaol. Father Baptista,\\nI charge you see that he be forthcoming.\\n\\nVINCENTIO:\\nCarry me to the gaol!\\n\\nGREMIO:\\nStay, officer: he shall not go to prison.\\n\\nBAPTISTA:\\nTalk not, Signior Gremio: I say he shall go to prison.\\n\\nGREMIO:\\nTake heed, Signior Baptista, lest you be\\ncony-catched in this business: I dare swear this\\nis the right Vincentio.\\n\\nPedant:\\nSwear, if thou darest.\\n\\nGREMIO:\\nNay, I dare not swear it.\\n\\nTRANIO:\\nThen thou wert best say that I am not Lucentio.\\n\\nGREMIO:\\nYes, I know thee to be Signior Lucentio.\\n\\nBAPTISTA:\\nAway with the dotard! to the gaol with him!\\n\\nVINCENTIO:\\nThus strangers may be hailed and abused: O\\nmonstrous villain!\\n\\nBIONDELLO:\\nO! we are spoiled and--yonder he is: deny him,\\nforswear him, or else we are all undone.\\n\\nLUCENTIO:\\n\\nVINCENTIO:\\nLives my sweet son?\\n\\nBIANCA:\\nPardon, dear father.\\n\\nBAPTISTA:\\nHow hast thou offended?\\nWhere is Lucentio?\\n\\nLUCENTIO:\\nHere's Lucentio,\\nRight son to the right Vincentio;\\nThat have by marriage made thy daughter mine,\\nWhile counterfeit supposes bleared thine eyne.\\n\\nGREMIO:\\nHere's packing, with a witness to deceive us all!\\n\\nVINCENTIO:\\nWhere is that damned villain Tranio,\\nThat faced and braved me in this matter so?\\n\\nBAPTISTA:\\nWhy, tell me, is not this my Cambio?\\n\\nBIANCA:\\nCambio is changed into Lucentio.\\n\\nLUCENTIO:\\nLove wrought these miracles. Bianca's love\\nMade me exchange my state with Tranio,\\nWhile he did bear my countenance in the town;\\nAnd happily I have arrived at the last\\nUnto the wished haven of my bliss.\\nWhat Tranio did, myself enforced him to;\\nThen pardon him, sweet father, for my sake.\\n\\nVINCENTIO:\\nI'll slit the villain's nose, that would have sent\\nme to the gaol.\\n\\nBAPTISTA:\\nBut do you hear, sir? have you married my daughter\\nwithout asking my good will?\\n\\nVINCENTIO:\\nFear not, Baptista; we will content you, go to: but\\nI will in, to be revenged for this villany.\\n\\nBAPTISTA:\\nAnd I, to sound the depth of this knavery.\\n\\nLUCENTIO:\\nLook not pale, Bianca; thy father will not frown.\\n\\nGREMIO:\\nMy cake is dough; but I'll in among the rest,\\nOut of hope of all, but my share of the feast.\\n\\nKATHARINA:\\nHusband, let's follow, to see the end of this ado.\\n\\nPETRUCHIO:\\nFirst kiss me, Kate, and we will.\\n\\nKATHARINA:\\nWhat, in the midst of the street?\\n\\nPETRUCHIO:\\nWhat, art thou ashamed of me?\\n\\nKATHARINA:\\nNo, sir, God forbid; but ashamed to kiss.\\n\\nPETRUCHIO:\\nWhy, then let's home again. Come, sirrah, let's away.\\n\\nKATHARINA:\\nNay, I will give thee a kiss: now pray thee, love, stay.\\n\\nPETRUCHIO:\\nIs not this well? Come, my sweet Kate:\\nBetter once than never, for never too late.\\n\\nLUCENTIO:\\nAt last, though long, our jarring notes agree:\\nAnd time it is, when raging war is done,\\nTo smile at scapes and perils overblown.\\nMy fair Bianca, bid my father welcome,\\nWhile I with self-same kindness welcome thine.\\nBrother Petruchio, sister Katharina,\\nAnd thou, Hortensio, with thy loving widow,\\nFeast with the best, and welcome to my house:\\nMy banquet is to close our stomachs up,\\nAfter our great good cheer. Pray you, sit down;\\nFor now we sit to chat as well as eat.\\n\\nPETRUCHIO:\\nNothing but sit and sit, and eat and eat!\\n\\nBAPTISTA:\\nPadua affords this kindness, son Petruchio.\\n\\nPETRUCHIO:\\nPadua affords nothing but what is kind.\\n\\nHORTENSIO:\\nFor both our sakes, I would that word were true.\\n\\nPETRUCHIO:\\nNow, for my life, Hortensio fears his widow.\\n\\nWidow:\\nThen never trust me, if I be afeard.\\n\\nPETRUCHIO:\\nYou are very sensible, and yet you miss my sense:\\nI mean, Hortensio is afeard of you.\\n\\nWidow:\\nHe that is giddy thinks the world turns round.\\n\\nPETRUCHIO:\\nRoundly replied.\\n\\nKATHARINA:\\nMistress, how mean you that?\\n\\nWidow:\\nThus I conceive by him.\\n\\nPETRUCHIO:\\nConceives by me! How likes Hortensio that?\\n\\nHORTENSIO:\\nMy widow says, thus she conceives her tale.\\n\\nPETRUCHIO:\\nVery well mended. Kiss him for that, good widow.\\n\\nKATHARINA:\\n'He that is giddy thinks the world turns round:'\\nI pray you, tell me what you meant by that.\\n\\nWidow:\\nYour husband, being troubled with a shrew,\\nMeasures my husband's sorrow by his woe:\\nAnd now you know my meaning,\\n\\nKATHARINA:\\nA very mean meaning.\\n\\nWidow:\\nRight, I mean you.\\n\\nKATHARINA:\\nAnd I am mean indeed, respecting you.\\n\\nPETRUCHIO:\\nTo her, Kate!\\n\\nHORTENSIO:\\nTo her, widow!\\n\\nPETRUCHIO:\\nA hundred marks, my Kate does put her down.\\n\\nHORTENSIO:\\nThat's my office.\\n\\nPETRUCHIO:\\nSpoke like an officer; ha' to thee, lad!\\n\\nBAPTISTA:\\nHow likes Gremio these quick-witted folks?\\n\\nGREMIO:\\nBelieve me, sir, they butt together well.\\n\\nBIANCA:\\nHead, and butt! an hasty-witted body\\nWould say your head and butt were head and horn.\\n\\nVINCENTIO:\\nAy, mistress bride, hath that awaken'd you?\\n\\nBIANCA:\\nAy, but not frighted me; therefore I'll sleep again.\\n\\nPETRUCHIO:\\nNay, that you shall not: since you have begun,\\nHave at you for a bitter jest or two!\\n\\nBIANCA:\\nAm I your bird? I mean to shift my bush;\\nAnd then pursue me as you draw your bow.\\nYou are welcome all.\\n\\nPETRUCHIO:\\nShe hath prevented me. Here, Signior Tranio.\\nThis bird you aim'd at, though you hit her not;\\nTherefore a health to all that shot and miss'd.\\n\\nTRANIO:\\nO, sir, Lucentio slipp'd me like his greyhound,\\nWhich runs himself and catches for his master.\\n\\nPETRUCHIO:\\nA good swift simile, but something currish.\\n\\nTRANIO:\\n'Tis well, sir, that you hunted for yourself:\\n'Tis thought your deer does hold you at a bay.\\n\\nBAPTISTA:\\nO ho, Petruchio! Tranio hits you now.\\n\\nLUCENTIO:\\nI thank thee for that gird, good Tranio.\\n\\nHORTENSIO:\\nConfess, confess, hath he not hit you here?\\n\\nPETRUCHIO:\\nA' has a little gall'd me, I confess;\\nAnd, as the jest did glance away from me,\\n'Tis ten to one it maim'd you two outright.\\n\\nBAPTISTA:\\nNow, in good sadness, son Petruchio,\\nI think thou hast the veriest shrew of all.\\n\\nPETRUCHIO:\\nWell, I say no: and therefore for assurance\\nLet's each one send unto his wife;\\nAnd he whose wife is most obedient\\nTo come at first when he doth send for her,\\nShall win the wager which we will propose.\\n\\nHORTENSIO:\\nContent. What is the wager?\\n\\nLUCENTIO:\\nTwenty crowns.\\n\\nPETRUCHIO:\\nTwenty crowns!\\nI'll venture so much of my hawk or hound,\\nBut twenty times so much upon my wife.\\n\\nLUCENTIO:\\nA hundred then.\\n\\nHORTENSIO:\\nContent.\\n\\nPETRUCHIO:\\nA match! 'tis done.\\n\\nHORTENSIO:\\nWho shall begin?\\n\\nLUCENTIO:\\nThat will I.\\nGo, Biondello, bid your mistress come to me.\\n\\nBIONDELLO:\\nI go.\\n\\nBAPTISTA:\\nSon, I'll be your half, Bianca comes.\\n\\nLUCENTIO:\\nI'll have no halves; I'll bear it all myself.\\nHow now! what news?\\n\\nBIONDELLO:\\nSir, my mistress sends you word\\nThat she is busy and she cannot come.\\n\\nPETRUCHIO:\\nHow! she is busy and she cannot come!\\nIs that an answer?\\n\\nGREMIO:\\nAy, and a kind one too:\\nPray God, sir, your wife send you not a worse.\\n\\nPETRUCHIO:\\nI hope better.\\n\\nHORTENSIO:\\nSirrah Biondello, go and entreat my wife\\nTo come to me forthwith.\\n\\nPETRUCHIO:\\nO, ho! entreat her!\\nNay, then she must needs come.\\n\\nHORTENSIO:\\nI am afraid, sir,\\nDo what you can, yours will not be entreated.\\nNow, where's my wife?\\n\\nBIONDELLO:\\nShe says you have some goodly jest in hand:\\nShe will not come: she bids you come to her.\\n\\nPETRUCHIO:\\nWorse and worse; she will not come! O vile,\\nIntolerable, not to be endured!\\nSirrah Grumio, go to your mistress;\\nSay, I command her to come to me.\\n\\nHORTENSIO:\\nI know her answer.\\n\\nPETRUCHIO:\\nWhat?\\n\\nHORTENSIO:\\nShe will not.\\n\\nPETRUCHIO:\\nThe fouler fortune mine, and there an end.\\n\\nBAPTISTA:\\nNow, by my holidame, here comes Katharina!\\n\\nKATHARINA:\\nWhat is your will, sir, that you send for me?\\n\\nPETRUCHIO:\\nWhere is your sister, and Hortensio's wife?\\n\\nKATHARINA:\\nThey sit conferring by the parlor fire.\\n\\nPETRUCHIO:\\nGo fetch them hither: if they deny to come.\\nSwinge me them soundly forth unto their husbands:\\nAway, I say, and bring them hither straight.\\n\\nLUCENTIO:\\nHere is a wonder, if you talk of a wonder.\\n\\nHORTENSIO:\\nAnd so it is: I wonder what it bodes.\\n\\nPETRUCHIO:\\nMarry, peace it bodes, and love and quiet life,\\nAnd awful rule and right supremacy;\\nAnd, to be short, what not, that's sweet and happy?\\n\\nBAPTISTA:\\nNow, fair befal thee, good Petruchio!\\nThe wager thou hast won; and I will add\\nUnto their losses twenty thousand crowns;\\nAnother dowry to another daughter,\\nFor she is changed, as she had never been.\\n\\nPETRUCHIO:\\nNay, I will win my wager better yet\\nAnd show more sign of her obedience,\\nHer new-built virtue and obedience.\\nSee where she comes and brings your froward wives\\nAs prisoners to her womanly persuasion.\\nKatharina, that cap of yours becomes you not:\\nOff with that bauble, throw it under-foot.\\n\\nWidow:\\nLord, let me never have a cause to sigh,\\nTill I be brought to such a silly pass!\\n\\nBIANCA:\\nFie! what a foolish duty call you this?\\n\\nLUCENTIO:\\nI would your duty were as foolish too:\\nThe wisdom of your duty, fair Bianca,\\nHath cost me an hundred crowns since supper-time.\\n\\nBIANCA:\\nThe more fool you, for laying on my duty.\\n\\nPETRUCHIO:\\nKatharina, I charge thee, tell these headstrong women\\nWhat duty they do owe their lords and husbands.\\n\\nWidow:\\nCome, come, you're mocking: we will have no telling.\\n\\nPETRUCHIO:\\nCome on, I say; and first begin with her.\\n\\nWidow:\\nShe shall not.\\n\\nPETRUCHIO:\\nI say she shall: and first begin with her.\\n\\nKATHARINA:\\nFie, fie! unknit that threatening unkind brow,\\nAnd dart not scornful glances from those eyes,\\nTo wound thy lord, thy king, thy governor:\\nIt blots thy beauty as frosts do bite the meads,\\nConfounds thy fame as whirlwinds shake fair buds,\\nAnd in no sense is meet or amiable.\\nA woman moved is like a fountain troubled,\\nMuddy, ill-seeming, thick, bereft of beauty;\\nAnd while it is so, none so dry or thirsty\\nWill deign to sip or touch one drop of it.\\nThy husband is thy lord, thy life, thy keeper,\\nThy head, thy sovereign; one that cares for thee,\\nAnd for thy maintenance commits his body\\nTo painful labour both by sea and land,\\nTo watch the night in storms, the day in cold,\\nWhilst thou liest warm at home, secure and safe;\\nAnd craves no other tribute at thy hands\\nBut love, fair looks and true obedience;\\nToo little payment for so great a debt.\\nSuch duty as the subject owes the prince\\nEven such a woman oweth to her husband;\\nAnd when she is froward, peevish, sullen, sour,\\nAnd not obedient to his honest will,\\nWhat is she but a foul contending rebel\\nAnd graceless traitor to her loving lord?\\nI am ashamed that women are so simple\\nTo offer war where they should kneel for peace;\\nOr seek for rule, supremacy and sway,\\nWhen they are bound to serve, love and obey.\\nWhy are our bodies soft and weak and smooth,\\nUnapt to toil and trouble in the world,\\nBut that our soft conditions and our hearts\\nShould well agree with our external parts?\\nCome, come, you froward and unable worms!\\nMy mind hath been as big as one of yours,\\nMy heart as great, my reason haply more,\\nTo bandy word for word and frown for frown;\\nBut now I see our lances are but straws,\\nOur strength as weak, our weakness past compare,\\nThat seeming to be most which we indeed least are.\\nThen vail your stomachs, for it is no boot,\\nAnd place your hands below your husband's foot:\\nIn token of which duty, if he please,\\nMy hand is ready; may it do him ease.\\n\\nPETRUCHIO:\\nWhy, there's a wench! Come on, and kiss me, Kate.\\n\\nLUCENTIO:\\nWell, go thy ways, old lad; for thou shalt ha't.\\n\\nVINCENTIO:\\n'Tis a good hearing when children are toward.\\n\\nLUCENTIO:\\nBut a harsh hearing when women are froward.\\n\\nPETRUCHIO:\\nCome, Kate, we'll to bed.\\nWe three are married, but you two are sped.\\n'Twas I won the wager, though you hit the white;\\nAnd, being a winner, God give you good night!\\n\\nHORTENSIO:\\nNow, go thy ways; thou hast tamed a curst shrew.\\n\\nLUCENTIO:\\n'Tis a wonder, by your leave, she will be tamed so.\\n\\nMaster:\\nBoatswain!\\n\\nBoatswain:\\nHere, master: what cheer?\\n\\nMaster:\\nGood, speak to the mariners: fall to't, yarely,\\nor we run ourselves aground: bestir, bestir.\\n\\nBoatswain:\\nHeigh, my hearts! cheerly, cheerly, my hearts!\\nyare, yare! Take in the topsail. Tend to the\\nmaster's whistle. Blow, till thou burst thy wind,\\nif room enough!\\n\\nALONSO:\\nGood boatswain, have care. Where's the master?\\nPlay the men.\\n\\nBoatswain:\\nI pray now, keep below.\\n\\nANTONIO:\\nWhere is the master, boatswain?\\n\\nBoatswain:\\nDo you not hear him? You mar our labour: keep your\\ncabins: you do assist the storm.\\n\\nGONZALO:\\nNay, good, be patient.\\n\\nBoatswain:\\nWhen the sea is. Hence! What cares these roarers\\nfor the name of king? To cabin: silence! trouble us not.\\n\\nGONZALO:\\nGood, yet remember whom thou hast aboard.\\n\\nBoatswain:\\nNone that I more love than myself. You are a\\ncounsellor; if you can command these elements to\\nsilence, and work the peace of the present, we will\\nnot hand a rope more; use your authority: if you\\ncannot, give thanks you have lived so long, and make\\nyourself ready in your cabin for the mischance of\\nthe hour, if it so hap. Cheerly, good hearts! Out\\nof our way, I say.\\n\\nGONZALO:\\nI have great comfort from this fellow: methinks he\\nhath no drowning mark upon him; his complexion is\\nperfect gallows. Stand fast, good Fate, to his\\nhanging: make the rope of his destiny our cable,\\nfor our own doth little advantage. If he be not\\nborn to be hanged, our case is miserable.\\n\\nBoatswain:\\nDown with the topmast! yare! lower, lower! Bring\\nher to try with main-course.\\nA plague upon this howling! they are louder than\\nthe weather or our office.\\nYet again! what do you here? Shall we give o'er\\nand drown? Have you a mind to sink?\\n\\nSEBASTIAN:\\nA pox o' your throat, you bawling, blasphemous,\\nincharitable dog!\\n\\nBoatswain:\\nWork you then.\\n\\nANTONIO:\\nHang, cur! hang, you whoreson, insolent noisemaker!\\nWe are less afraid to be drowned than thou art.\\n\\nGONZALO:\\nI'll warrant him for drowning; though the ship were\\nno stronger than a nutshell and as leaky as an\\nunstanched wench.\\n\\nBoatswain:\\nLay her a-hold, a-hold! set her two courses off to\\nsea again; lay her off.\\n\\nMariners:\\nAll lost! to prayers, to prayers! all lost!\\n\\nBoatswain:\\nWhat, must our mouths be cold?\\n\\nGONZALO:\\nThe king and prince at prayers! let's assist them,\\nFor our case is as theirs.\\n\\nSEBASTIAN:\\nI'm out of patience.\\n\\nANTONIO:\\nWe are merely cheated of our lives by drunkards:\\nThis wide-chapp'd rascal--would thou mightst lie drowning\\nThe washing of ten tides!\\n\\nGONZALO:\\nHe'll be hang'd yet,\\nThough every drop of water swear against it\\nAnd gape at widest to glut him.\\n\\nANTONIO:\\nLet's all sink with the king.\\n\\nSEBASTIAN:\\nLet's take leave of him.\\n\\nGONZALO:\\nNow would I give a thousand furlongs of sea for an\\nacre of barren ground, long heath, brown furze, any\\nthing. The wills above be done! but I would fain\\ndie a dry death.\\n\\nMIRANDA:\\nIf by your art, my dearest father, you have\\nPut the wild waters in this roar, allay them.\\nThe sky, it seems, would pour down stinking pitch,\\nBut that the sea, mounting to the welkin's cheek,\\nDashes the fire out. O, I have suffered\\nWith those that I saw suffer: a brave vessel,\\nWho had, no doubt, some noble creature in her,\\nDash'd all to pieces. O, the cry did knock\\nAgainst my very heart. Poor souls, they perish'd.\\nHad I been any god of power, I would\\nHave sunk the sea within the earth or ere\\nIt should the good ship so have swallow'd and\\nThe fraughting souls within her.\\n\\nPROSPERO:\\nBe collected:\\nNo more amazement: tell your piteous heart\\nThere's no harm done.\\n\\nMIRANDA:\\nO, woe the day!\\n\\nPROSPERO:\\nNo harm.\\nI have done nothing but in care of thee,\\nOf thee, my dear one, thee, my daughter, who\\nArt ignorant of what thou art, nought knowing\\nOf whence I am, nor that I am more better\\nThan Prospero, master of a full poor cell,\\nAnd thy no greater father.\\n\\nMIRANDA:\\nMore to know\\nDid never meddle with my thoughts.\\n\\nPROSPERO:\\n'Tis time\\nI should inform thee farther. Lend thy hand,\\nAnd pluck my magic garment from me. So:\\nLie there, my art. Wipe thou thine eyes; have comfort.\\nThe direful spectacle of the wreck, which touch'd\\nThe very virtue of compassion in thee,\\nI have with such provision in mine art\\nSo safely ordered that there is no soul--\\nNo, not so much perdition as an hair\\nBetid to any creature in the vessel\\nWhich thou heard'st cry, which thou saw'st sink. Sit down;\\nFor thou must now know farther.\\n\\nMIRANDA:\\nYou have often\\nBegun to tell me what I am, but stopp'd\\nAnd left me to a bootless inquisition,\\nConcluding 'Stay: not yet.'\\n\\nPROSPERO:\\nThe hour's now come;\\nThe very minute bids thee ope thine ear;\\nObey and be attentive. Canst thou remember\\nA time before we came unto this cell?\\nI do not think thou canst, for then thou wast not\\nOut three years old.\\n\\nMIRANDA:\\nCertainly, sir, I can.\\n\\nPROSPERO:\\nBy what? by any other house or person?\\nOf any thing the image tell me that\\nHath kept with thy remembrance.\\n\\nMIRANDA:\\n'Tis far off\\nAnd rather like a dream than an assurance\\nThat my remembrance warrants. Had I not\\nFour or five women once that tended me?\\n\\nPROSPERO:\\nThou hadst, and more, Miranda. But how is it\\nThat this lives in thy mind? What seest thou else\\nIn the dark backward and abysm of time?\\nIf thou remember'st aught ere thou camest here,\\nHow thou camest here thou mayst.\\n\\nMIRANDA:\\nBut that I do not.\\n\\nPROSPERO:\\nTwelve year since, Miranda, twelve year since,\\nThy father was the Duke of Milan and\\nA prince of power.\\n\\nMIRANDA:\\nSir, are not you my father?\\n\\nPROSPERO:\\nThy mother was a piece of virtue, and\\nShe said thou wast my daughter; and thy father\\nWas Duke of Milan; and thou his only heir\\nAnd princess no worse issued.\\n\\nMIRANDA:\\nO the heavens!\\nWhat foul play had we, that we came from thence?\\nOr blessed was't we did?\\n\\nPROSPERO:\\nBoth, both, my girl:\\nBy foul play, as thou say'st, were we heaved thence,\\nBut blessedly holp hither.\\n\\nMIRANDA:\\nO, my heart bleeds\\nTo think o' the teen that I have turn'd you to,\\nWhich is from my remembrance! Please you, farther.\\n\\nPROSPERO:\\nMy brother and thy uncle, call'd Antonio--\\nI pray thee, mark me--that a brother should\\nBe so perfidious!--he whom next thyself\\nOf all the world I loved and to him put\\nThe manage of my state; as at that time\\nThrough all the signories it was the first\\nAnd Prospero the prime duke, being so reputed\\nIn dignity, and for the liberal arts\\nWithout a parallel; those being all my study,\\nThe government I cast upon my brother\\nAnd to my state grew stranger, being transported\\nAnd rapt in secret studies. Thy false uncle--\\nDost thou attend me?\\n\\nMIRANDA:\\nSir, most heedfully.\\n\\nPROSPERO:\\nBeing once perfected how to grant suits,\\nHow to deny them, who to advance and who\\nTo trash for over-topping, new created\\nThe creatures that were mine, I say, or changed 'em,\\nOr else new form'd 'em; having both the key\\nOf officer and office, set all hearts i' the state\\nTo what tune pleased his ear; that now he was\\nThe ivy which had hid my princely trunk,\\nAnd suck'd my verdure out on't. Thou attend'st not.\\n\\nMIRANDA:\\nO, good sir, I do.\\n\\nPROSPERO:\\nI pray thee, mark me.\\nI, thus neglecting worldly ends, all dedicated\\nTo closeness and the bettering of my mind\\nWith that which, but by being so retired,\\nO'er-prized all popular rate, in my false brother\\nAwaked an evil nature; and my trust,\\nLike a good parent, did beget of him\\nA falsehood in its contrary as great\\nAs my trust was; which had indeed no limit,\\nA confidence sans bound. He being thus lorded,\\nNot only with what my revenue yielded,\\nBut what my power might else exact, like one\\nWho having into truth, by telling of it,\\nMade such a sinner of his memory,\\nTo credit his own lie, he did believe\\nHe was indeed the duke; out o' the substitution\\nAnd executing the outward face of royalty,\\nWith all prerogative: hence his ambition growing--\\nDost thou hear?\\n\\nMIRANDA:\\nYour tale, sir, would cure deafness.\\n\\nPROSPERO:\\nTo have no screen between this part he play'd\\nAnd him he play'd it for, he needs will be\\nAbsolute Milan. Me, poor man, my library\\nWas dukedom large enough: of temporal royalties\\nHe thinks me now incapable; confederates--\\nSo dry he was for sway--wi' the King of Naples\\nTo give him annual tribute, do him homage,\\nSubject his coronet to his crown and bend\\nThe dukedom yet unbow'd--alas, poor Milan!--\\nTo most ignoble stooping.\\n\\nMIRANDA:\\nO the heavens!\\n\\nPROSPERO:\\nMark his condition and the event; then tell me\\nIf this might be a brother.\\n\\nMIRANDA:\\nI should sin\\nTo think but nobly of my grandmother:\\nGood wombs have borne bad sons.\\n\\nPROSPERO:\\nNow the condition.\\nThe King of Naples, being an enemy\\nTo me inveterate, hearkens my brother's suit;\\nWhich was, that he, in lieu o' the premises\\nOf homage and I know not how much tribute,\\nShould presently extirpate me and mine\\nOut of the dukedom and confer fair Milan\\nWith all the honours on my brother: whereon,\\nA treacherous army levied, one midnight\\nFated to the purpose did Antonio open\\nThe gates of Milan, and, i' the dead of darkness,\\nThe ministers for the purpose hurried thence\\nMe and thy crying self.\\n\\nMIRANDA:\\nAlack, for pity!\\nI, not remembering how I cried out then,\\nWill cry it o'er again: it is a hint\\nThat wrings mine eyes to't.\\n\\nPROSPERO:\\nHear a little further\\nAnd then I'll bring thee to the present business\\nWhich now's upon's; without the which this story\\nWere most impertinent.\\n\\nMIRANDA:\\nWherefore did they not\\nThat hour destroy us?\\n\\nPROSPERO:\\nWell demanded, wench:\\nMy tale provokes that question. Dear, they durst not,\\nSo dear the love my people bore me, nor set\\nA mark so bloody on the business, but\\nWith colours fairer painted their foul ends.\\nIn few, they hurried us aboard a bark,\\nBore us some leagues to sea; where they prepared\\nA rotten carcass of a boat, not rigg'd,\\nNor tackle, sail, nor mast; the very rats\\nInstinctively had quit it: there they hoist us,\\nTo cry to the sea that roar'd to us, to sigh\\nTo the winds whose pity, sighing back again,\\nDid us but loving wrong.\\n\\nMIRANDA:\\nAlack, what trouble\\nWas I then to you!\\n\\nPROSPERO:\\nO, a cherubim\\nThou wast that did preserve me. Thou didst smile.\\nInfused with a fortitude from heaven,\\nWhen I have deck'd the sea with drops full salt,\\nUnder my burthen groan'd; which raised in me\\nAn undergoing stomach, to bear up\\nAgainst what should ensue.\\n\\nMIRANDA:\\nHow came we ashore?\\n\\nPROSPERO:\\nBy Providence divine.\\nSome food we had and some fresh water that\\nA noble Neapolitan, Gonzalo,\\nOut of his charity, being then appointed\\nMaster of this design, did give us, with\\nRich garments, linens, stuffs and necessaries,\\nWhich since have steaded much; so, of his gentleness,\\nKnowing I loved my books, he furnish'd me\\nFrom mine own library with volumes that\\nI prize above my dukedom.\\n\\nMIRANDA:\\nWould I might\\nBut ever see that man!\\n\\nPROSPERO:\\nNow I arise:\\nSit still, and hear the last of our sea-sorrow.\\nHere in this island we arrived; and here\\nHave I, thy schoolmaster, made thee more profit\\nThan other princesses can that have more time\\nFor vainer hours and tutors not so careful.\\n\\nMIRANDA:\\nHeavens thank you for't! And now, I pray you, sir,\\nFor still 'tis beating in my mind, your reason\\nFor raising this sea-storm?\\n\\nPROSPERO:\\nKnow thus far forth.\\nBy accident most strange, bountiful Fortune,\\nNow my dear lady, hath mine enemies\\nBrought to this shore; and by my prescience\\nI find my zenith doth depend upon\\nA most auspicious star, whose influence\\nIf now I court not but omit, my fortunes\\nWill ever after droop. Here cease more questions:\\nThou art inclined to sleep; 'tis a good dulness,\\nAnd give it way: I know thou canst not choose.\\nCome away, servant, come. I am ready now.\\nApproach, my Ariel, come.\\n\\nARIEL:\\nAll hail, great master! grave sir, hail! I come\\nTo answer thy best pleasure; be't to fly,\\nTo swim, to dive into the fire, to ride\\nOn the curl'd clouds, to thy strong bidding task\\nAriel and all his quality.\\n\\nPROSPERO:\\nHast thou, spirit,\\nPerform'd to point the tempest that I bade thee?\\n\\nARIEL:\\nTo every article.\\nI boarded the king's ship; now on the beak,\\nNow in the waist, the deck, in every cabin,\\nI flamed amazement: sometime I'ld divide,\\nAnd burn in many places; on the topmast,\\nThe yards and bowsprit, would I flame distinctly,\\nThen meet and join. Jove's lightnings, the precursors\\nO' the dreadful thunder-claps, more momentary\\nAnd sight-outrunning were not; the fire and cracks\\nOf sulphurous roaring the most mighty Neptune\\nSeem to besiege and make his bold waves tremble,\\nYea, his dread trident shake.\\n\\nPROSPERO:\\nMy brave spirit!\\nWho was so firm, so constant, that this coil\\nWould not infect his reason?\\n\\nARIEL:\\nNot a soul\\nBut felt a fever of the mad and play'd\\nSome tricks of desperation. All but mariners\\nPlunged in the foaming brine and quit the vessel,\\nThen all afire with me: the king's son, Ferdinand,\\nWith hair up-staring,--then like reeds, not hair,--\\nWas the first man that leap'd; cried, 'Hell is empty\\nAnd all the devils are here.'\\n\\nPROSPERO:\\nWhy that's my spirit!\\nBut was not this nigh shore?\\n\\nARIEL:\\nClose by, my master.\\n\\nPROSPERO:\\nBut are they, Ariel, safe?\\n\\nARIEL:\\nNot a hair perish'd;\\nOn their sustaining garments not a blemish,\\nBut fresher than before: and, as thou badest me,\\nIn troops I have dispersed them 'bout the isle.\\nThe king's son have I landed by himself;\\nWhom I left cooling of the air with sighs\\nIn an odd angle of the isle and sitting,\\nHis arms in this sad knot.\\n\\nPROSPERO:\\nOf the king's ship\\nThe mariners say how thou hast disposed\\nAnd all the rest o' the fleet.\\n\\nARIEL:\\nSafely in harbour\\nIs the king's ship; in the deep nook, where once\\nThou call'dst me up at midnight to fetch dew\\nFrom the still-vex'd Bermoothes, there she's hid:\\nThe mariners all under hatches stow'd;\\nWho, with a charm join'd to their suffer'd labour,\\nI have left asleep; and for the rest o' the fleet\\nWhich I dispersed, they all have met again\\nAnd are upon the Mediterranean flote,\\nBound sadly home for Naples,\\nSupposing that they saw the king's ship wreck'd\\nAnd his great person perish.\\n\\nPROSPERO:\\nAriel, thy charge\\nExactly is perform'd: but there's more work.\\nWhat is the time o' the day?\\n\\nARIEL:\\nPast the mid season.\\n\\nPROSPERO:\\nAt least two glasses. The time 'twixt six and now\\nMust by us both be spent most preciously.\\n\\nARIEL:\\nIs there more toil? Since thou dost give me pains,\\nLet me remember thee what thou hast promised,\\nWhich is not yet perform'd me.\\n\\nPROSPERO:\\nHow now? moody?\\nWhat is't thou canst demand?\\n\\nARIEL:\\nMy liberty.\\n\\nPROSPERO:\\nBefore the time be out? no more!\\n\\nARIEL:\\nI prithee,\\nRemember I have done thee worthy service;\\nTold thee no lies, made thee no mistakings, served\\nWithout or grudge or grumblings: thou didst promise\\nTo bate me a full year.\\n\\nPROSPERO:\\nDost thou forget\\nFrom what a torment I did free thee?\\n\\nARIEL:\\nNo.\\n\\nPROSPERO:\\nThou dost, and think'st it much to tread the ooze\\nOf the salt deep,\\nTo run upon the sharp wind of the north,\\nTo do me business in the veins o' the earth\\nWhen it is baked with frost.\\n\\nARIEL:\\nI do not, sir.\\n\\nPROSPERO:\\nThou liest, malignant thing! Hast thou forgot\\nThe foul witch Sycorax, who with age and envy\\nWas grown into a hoop? hast thou forgot her?\\n\\nARIEL:\\nNo, sir.\\n\\nPROSPERO:\\nThou hast. Where was she born? speak; tell me.\\n\\nARIEL:\\nSir, in Argier.\\n\\nPROSPERO:\\nO, was she so? I must\\nOnce in a month recount what thou hast been,\\nWhich thou forget'st. This damn'd witch Sycorax,\\nFor mischiefs manifold and sorceries terrible\\nTo enter human hearing, from Argier,\\nThou know'st, was banish'd: for one thing she did\\nThey would not take her life. Is not this true?\\n\\nARIEL:\\nAy, sir.\\n\\nPROSPERO:\\nThis blue-eyed hag was hither brought with child\\nAnd here was left by the sailors. Thou, my slave,\\nAs thou report'st thyself, wast then her servant;\\nAnd, for thou wast a spirit too delicate\\nTo act her earthy and abhorr'd commands,\\nRefusing her grand hests, she did confine thee,\\nBy help of her more potent ministers\\nAnd in her most unmitigable rage,\\nInto a cloven pine; within which rift\\nImprison'd thou didst painfully remain\\nA dozen years; within which space she died\\nAnd left thee there; where thou didst vent thy groans\\nAs fast as mill-wheels strike. Then was this island--\\nSave for the son that she did litter here,\\nA freckled whelp hag-born--not honour'd with\\nA human shape.\\n\\nARIEL:\\nYes, Caliban her son.\\n\\nPROSPERO:\\nDull thing, I say so; he, that Caliban\\nWhom now I keep in service. Thou best know'st\\nWhat torment I did find thee in; thy groans\\nDid make wolves howl and penetrate the breasts\\nOf ever angry bears: it was a torment\\nTo lay upon the damn'd, which Sycorax\\nCould not again undo: it was mine art,\\nWhen I arrived and heard thee, that made gape\\nThe pine and let thee out.\\n\\nARIEL:\\nI thank thee, master.\\n\\nPROSPERO:\\nIf thou more murmur'st, I will rend an oak\\nAnd peg thee in his knotty entrails till\\nThou hast howl'd away twelve winters.\\n\\nARIEL:\\nPardon, master;\\nI will be correspondent to command\\nAnd do my spiriting gently.\\n\\nPROSPERO:\\nDo so, and after two days\\nI will discharge thee.\\n\\nARIEL:\\nThat's my noble master!\\nWhat shall I do? say what; what shall I do?\\n\\nPROSPERO:\\nGo make thyself like a nymph o' the sea: be subject\\nTo no sight but thine and mine, invisible\\nTo every eyeball else. Go take this shape\\nAnd hither come in't: go, hence with diligence!\\nAwake, dear heart, awake! thou hast slept well; Awake!\\n\\nMIRANDA:\\nThe strangeness of your story put\\nHeaviness in me.\\n\\nPROSPERO:\\nShake it off. Come on;\\nWe'll visit Caliban my slave, who never\\nYields us kind answer.\\n\\nMIRANDA:\\n'Tis a villain, sir,\\nI do not love to look on.\\n\\nPROSPERO:\\nBut, as 'tis,\\nWe cannot miss him: he does make our fire,\\nFetch in our wood and serves in offices\\nThat profit us. What, ho! slave! Caliban!\\nThou earth, thou! speak.\\n\\nCALIBAN:\\n\\nPROSPERO:\\nCome forth, I say! there's other business for thee:\\nCome, thou tortoise! when?\\nFine apparition! My quaint Ariel,\\nHark in thine ear.\\n\\nARIEL:\\nMy lord it shall be done.\\n\\nPROSPERO:\\nThou poisonous slave, got by the devil himself\\nUpon thy wicked dam, come forth!\\n\\nCALIBAN:\\nAs wicked dew as e'er my mother brush'd\\nWith raven's feather from unwholesome fen\\nDrop on you both! a south-west blow on ye\\nAnd blister you all o'er!\\n\\nPROSPERO:\\nFor this, be sure, to-night thou shalt have cramps,\\nSide-stitches that shall pen thy breath up; urchins\\nShall, for that vast of night that they may work,\\nAll exercise on thee; thou shalt be pinch'd\\nAs thick as honeycomb, each pinch more stinging\\nThan bees that made 'em.\\n\\nCALIBAN:\\nI must eat my dinner.\\nThis island's mine, by Sycorax my mother,\\nWhich thou takest from me. When thou camest first,\\nThou strokedst me and madest much of me, wouldst give me\\nWater with berries in't, and teach me how\\nTo name the bigger light, and how the less,\\nThat burn by day and night: and then I loved thee\\nAnd show'd thee all the qualities o' the isle,\\nThe fresh springs, brine-pits, barren place and fertile:\\nCursed be I that did so! All the charms\\nOf Sycorax, toads, beetles, bats, light on you!\\nFor I am all the subjects that you have,\\nWhich first was mine own king: and here you sty me\\nIn this hard rock, whiles you do keep from me\\nThe rest o' the island.\\n\\nPROSPERO:\\nThou most lying slave,\\nWhom stripes may move, not kindness! I have used thee,\\nFilth as thou art, with human care, and lodged thee\\nIn mine own cell, till thou didst seek to violate\\nThe honour of my child.\\n\\nCALIBAN:\\nO ho, O ho! would't had been done!\\nThou didst prevent me; I had peopled else\\nThis isle with Calibans.\\n\\nPROSPERO:\\nAbhorred slave,\\nWhich any print of goodness wilt not take,\\nBeing capable of all ill! I pitied thee,\\nTook pains to make thee speak, taught thee each hour\\nOne thing or other: when thou didst not, savage,\\nKnow thine own meaning, but wouldst gabble like\\nA thing most brutish, I endow'd thy purposes\\nWith words that made them known. But thy vile race,\\nThough thou didst learn, had that in't which\\ngood natures\\nCould not abide to be with; therefore wast thou\\nDeservedly confined into this rock,\\nWho hadst deserved more than a prison.\\n\\nCALIBAN:\\nYou taught me language; and my profit on't\\nIs, I know how to curse. The red plague rid you\\nFor learning me your language!\\n\\nPROSPERO:\\nHag-seed, hence!\\nFetch us in fuel; and be quick, thou'rt best,\\nTo answer other business. Shrug'st thou, malice?\\nIf thou neglect'st or dost unwillingly\\nWhat I command, I'll rack thee with old cramps,\\nFill all thy bones with aches, make thee roar\\nThat beasts shall tremble at thy din.\\n\\nCALIBAN:\\nNo, pray thee.\\nI must obey: his art is of such power,\\nIt would control my dam's god, Setebos,\\nand make a vassal of him.\\n\\nPROSPERO:\\nSo, slave; hence!\\nCome unto these yellow sands,\\nAnd then take hands:\\nCourtsied when you have and kiss'd\\nThe wild waves whist,\\nFoot it featly here and there;\\nAnd, sweet sprites, the burthen bear.\\nHark, hark!\\n\\nFERDINAND:\\nWhere should this music be? i' the air or the earth?\\nIt sounds no more: and sure, it waits upon\\nSome god o' the island. Sitting on a bank,\\nWeeping again the king my father's wreck,\\nThis music crept by me upon the waters,\\nAllaying both their fury and my passion\\nWith its sweet air: thence I have follow'd it,\\nOr it hath drawn me rather. But 'tis gone.\\nNo, it begins again.\\nFull fathom five thy father lies;\\nOf his bones are coral made;\\nThose are pearls that were his eyes:\\nNothing of him that doth fade\\nBut doth suffer a sea-change\\nInto something rich and strange.\\nSea-nymphs hourly ring his knell\\nHark! now I hear them,--Ding-dong, bell.\\n\\nFERDINAND:\\nThe ditty does remember my drown'd father.\\nThis is no mortal business, nor no sound\\nThat the earth owes. I hear it now above me.\\n\\nPROSPERO:\\nThe fringed curtains of thine eye advance\\nAnd say what thou seest yond.\\n\\nMIRANDA:\\nWhat is't? a spirit?\\nLord, how it looks about! Believe me, sir,\\nIt carries a brave form. But 'tis a spirit.\\n\\nPROSPERO:\\nNo, wench; it eats and sleeps and hath such senses\\nAs we have, such. This gallant which thou seest\\nWas in the wreck; and, but he's something stain'd\\nWith grief that's beauty's canker, thou mightst call him\\nA goodly person: he hath lost his fellows\\nAnd strays about to find 'em.\\n\\nMIRANDA:\\nI might call him\\nA thing divine, for nothing natural\\nI ever saw so noble.\\n\\nPROSPERO:\\n\\nFERDINAND:\\nMost sure, the goddess\\nOn whom these airs attend! Vouchsafe my prayer\\nMay know if you remain upon this island;\\nAnd that you will some good instruction give\\nHow I may bear me here: my prime request,\\nWhich I do last pronounce, is, O you wonder!\\nIf you be maid or no?\\n\\nMIRANDA:\\nNo wonder, sir;\\nBut certainly a maid.\\n\\nFERDINAND:\\nMy language! heavens!\\nI am the best of them that speak this speech,\\nWere I but where 'tis spoken.\\n\\nPROSPERO:\\nHow? the best?\\nWhat wert thou, if the King of Naples heard thee?\\n\\nFERDINAND:\\nA single thing, as I am now, that wonders\\nTo hear thee speak of Naples. He does hear me;\\nAnd that he does I weep: myself am Naples,\\nWho with mine eyes, never since at ebb, beheld\\nThe king my father wreck'd.\\n\\nMIRANDA:\\nAlack, for mercy!\\n\\nFERDINAND:\\nYes, faith, and all his lords; the Duke of Milan\\nAnd his brave son being twain.\\n\\nPROSPERO:\\n\\nMIRANDA:\\nWhy speaks my father so ungently? This\\nIs the third man that e'er I saw, the first\\nThat e'er I sigh'd for: pity move my father\\nTo be inclined my way!\\n\\nFERDINAND:\\nO, if a virgin,\\nAnd your affection not gone forth, I'll make you\\nThe queen of Naples.\\n\\nPROSPERO:\\nSoft, sir! one word more.\\nThey are both in either's powers; but this swift business\\nI must uneasy make, lest too light winning\\nMake the prize light.\\nOne word more; I charge thee\\nThat thou attend me: thou dost here usurp\\nThe name thou owest not; and hast put thyself\\nUpon this island as a spy, to win it\\nFrom me, the lord on't.\\n\\nFERDINAND:\\nNo, as I am a man.\\n\\nMIRANDA:\\nThere's nothing ill can dwell in such a temple:\\nIf the ill spirit have so fair a house,\\nGood things will strive to dwell with't.\\n\\nPROSPERO:\\nFollow me.\\nSpeak not you for him; he's a traitor. Come;\\nI'll manacle thy neck and feet together:\\nSea-water shalt thou drink; thy food shall be\\nThe fresh-brook muscles, wither'd roots and husks\\nWherein the acorn cradled. Follow.\\n\\nFERDINAND:\\nNo;\\nI will resist such entertainment till\\nMine enemy has more power.\\n\\nMIRANDA:\\nO dear father,\\nMake not too rash a trial of him, for\\nHe's gentle and not fearful.\\n\\nPROSPERO:\\nWhat? I say,\\nMy foot my tutor? Put thy sword up, traitor;\\nWho makest a show but darest not strike, thy conscience\\nIs so possess'd with guilt: come from thy ward,\\nFor I can here disarm thee with this stick\\nAnd make thy weapon drop.\\n\\nMIRANDA:\\nBeseech you, father.\\n\\nPROSPERO:\\nHence! hang not on my garments.\\n\\nMIRANDA:\\nSir, have pity;\\nI'll be his surety.\\n\\nPROSPERO:\\nSilence! one word more\\nShall make me chide thee, if not hate thee. What!\\nAn advocate for an imposter! hush!\\nThou think'st there is no more such shapes as he,\\nHaving seen but him and Caliban: foolish wench!\\nTo the most of men this is a Caliban\\nAnd they to him are angels.\\n\\nMIRANDA:\\nMy affections\\nAre then most humble; I have no ambition\\nTo see a goodlier man.\\n\\nPROSPERO:\\nCome on; obey:\\nThy nerves are in their infancy again\\nAnd have no vigour in them.\\n\\nFERDINAND:\\nSo they are;\\nMy spirits, as in a dream, are all bound up.\\nMy father's loss, the weakness which I feel,\\nThe wreck of all my friends, nor this man's threats,\\nTo whom I am subdued, are but light to me,\\nMight I but through my prison once a day\\nBehold this maid: all corners else o' the earth\\nLet liberty make use of; space enough\\nHave I in such a prison.\\n\\nPROSPERO:\\n\\nMIRANDA:\\nBe of comfort;\\nMy father's of a better nature, sir,\\nThan he appears by speech: this is unwonted\\nWhich now came from him.\\n\\nPROSPERO:\\nThou shalt be free\\nAs mountain winds: but then exactly do\\nAll points of my command.\\n\\nARIEL:\\nTo the syllable.\\n\\nPROSPERO:\\nCome, follow. Speak not for him.\\n\\nGONZALO:\\nBeseech you, sir, be merry; you have cause,\\nSo have we all, of joy; for our escape\\nIs much beyond our loss. Our hint of woe\\nIs common; every day some sailor's wife,\\nThe masters of some merchant and the merchant\\nHave just our theme of woe; but for the miracle,\\nI mean our preservation, few in millions\\nCan speak like us: then wisely, good sir, weigh\\nOur sorrow with our comfort.\\n\\nALONSO:\\nPrithee, peace.\\n\\nSEBASTIAN:\\nHe receives comfort like cold porridge.\\n\\nANTONIO:\\nThe visitor will not give him o'er so.\\n\\nSEBASTIAN:\\nLook he's winding up the watch of his wit;\\nby and by it will strike.\\n\\nGONZALO:\\nSir,--\\n\\nSEBASTIAN:\\nOne: tell.\\n\\nGONZALO:\\nWhen every grief is entertain'd that's offer'd,\\nComes to the entertainer--\\n\\nSEBASTIAN:\\nA dollar.\\n\\nGONZALO:\\nDolour comes to him, indeed: you\\nhave spoken truer than you purposed.\\n\\nSEBASTIAN:\\nYou have taken it wiselier than I meant you should.\\n\\nGONZALO:\\nTherefore, my lord,--\\n\\nANTONIO:\\nFie, what a spendthrift is he of his tongue!\\n\\nALONSO:\\nI prithee, spare.\\n\\nGONZALO:\\nWell, I have done: but yet,--\\n\\nSEBASTIAN:\\nHe will be talking.\\n\\nANTONIO:\\nWhich, of he or Adrian, for a good\\nwager, first begins to crow?\\n\\nSEBASTIAN:\\nThe old cock.\\n\\nANTONIO:\\nThe cockerel.\\n\\nSEBASTIAN:\\nDone. The wager?\\n\\nANTONIO:\\nA laughter.\\n\\nSEBASTIAN:\\nA match!\\n\\nADRIAN:\\nThough this island seem to be desert,--\\n\\nSEBASTIAN:\\nHa, ha, ha! So, you're paid.\\n\\nADRIAN:\\nUninhabitable and almost inaccessible,--\\n\\nSEBASTIAN:\\nYet,--\\n\\nADRIAN:\\nYet,--\\n\\nANTONIO:\\nHe could not miss't.\\n\\nADRIAN:\\nIt must needs be of subtle, tender and delicate\\ntemperance.\\n\\nANTONIO:\\nTemperance was a delicate wench.\\n\\nSEBASTIAN:\\nAy, and a subtle; as he most learnedly delivered.\\n\\nADRIAN:\\nThe air breathes upon us here most sweetly.\\n\\nSEBASTIAN:\\nAs if it had lungs and rotten ones.\\n\\nANTONIO:\\nOr as 'twere perfumed by a fen.\\n\\nGONZALO:\\nHere is everything advantageous to life.\\n\\nANTONIO:\\nTrue; save means to live.\\n\\nSEBASTIAN:\\nOf that there's none, or little.\\n\\nGONZALO:\\nHow lush and lusty the grass looks! how green!\\n\\nANTONIO:\\nThe ground indeed is tawny.\\n\\nSEBASTIAN:\\nWith an eye of green in't.\\n\\nANTONIO:\\nHe misses not much.\\n\\nSEBASTIAN:\\nNo; he doth but mistake the truth totally.\\n\\nGONZALO:\\nBut the rarity of it is,--which is indeed almost\\nbeyond credit,--\\n\\nSEBASTIAN:\\nAs many vouched rarities are.\\n\\nGONZALO:\\nThat our garments, being, as they were, drenched in\\nthe sea, hold notwithstanding their freshness and\\nglosses, being rather new-dyed than stained with\\nsalt water.\\n\\nANTONIO:\\nIf but one of his pockets could speak, would it not\\nsay he lies?\\n\\nSEBASTIAN:\\nAy, or very falsely pocket up his report\\n\\nGONZALO:\\nMethinks our garments are now as fresh as when we\\nput them on first in Afric, at the marriage of\\nthe king's fair daughter Claribel to the King of Tunis.\\n\\nSEBASTIAN:\\n'Twas a sweet marriage, and we prosper well in our return.\\n\\nADRIAN:\\nTunis was never graced before with such a paragon to\\ntheir queen.\\n\\nGONZALO:\\nNot since widow Dido's time.\\n\\nANTONIO:\\nWidow! a pox o' that! How came that widow in?\\nwidow Dido!\\n\\nSEBASTIAN:\\nWhat if he had said 'widower AEneas' too? Good Lord,\\nhow you take it!\\n\\nADRIAN:\\n'Widow Dido' said you? you make me study of that:\\nshe was of Carthage, not of Tunis.\\n\\nGONZALO:\\nThis Tunis, sir, was Carthage.\\n\\nADRIAN:\\nCarthage?\\n\\nGONZALO:\\nI assure you, Carthage.\\n\\nSEBASTIAN:\\nHis word is more than the miraculous harp; he hath\\nraised the wall and houses too.\\n\\nANTONIO:\\nWhat impossible matter will he make easy next?\\n\\nSEBASTIAN:\\nI think he will carry this island home in his pocket\\nand give it his son for an apple.\\n\\nANTONIO:\\nAnd, sowing the kernels of it in the sea, bring\\nforth more islands.\\n\\nGONZALO:\\nAy.\\n\\nANTONIO:\\nWhy, in good time.\\n\\nGONZALO:\\nSir, we were talking that our garments seem now\\nas fresh as when we were at Tunis at the marriage\\nof your daughter, who is now queen.\\n\\nANTONIO:\\nAnd the rarest that e'er came there.\\n\\nSEBASTIAN:\\nBate, I beseech you, widow Dido.\\n\\nANTONIO:\\nO, widow Dido! ay, widow Dido.\\n\\nGONZALO:\\nIs not, sir, my doublet as fresh as the first day I\\nwore it? I mean, in a sort.\\n\\nANTONIO:\\nThat sort was well fished for.\\n\\nGONZALO:\\nWhen I wore it at your daughter's marriage?\\n\\nALONSO:\\nYou cram these words into mine ears against\\nThe stomach of my sense. Would I had never\\nMarried my daughter there! for, coming thence,\\nMy son is lost and, in my rate, she too,\\nWho is so far from Italy removed\\nI ne'er again shall see her. O thou mine heir\\nOf Naples and of Milan, what strange fish\\nHath made his meal on thee?\\n\\nFRANCISCO:\\nSir, he may live:\\nI saw him beat the surges under him,\\nAnd ride upon their backs; he trod the water,\\nWhose enmity he flung aside, and breasted\\nThe surge most swoln that met him; his bold head\\n'Bove the contentious waves he kept, and oar'd\\nHimself with his good arms in lusty stroke\\nTo the shore, that o'er his wave-worn basis bow'd,\\nAs stooping to relieve him: I not doubt\\nHe came alive to land.\\n\\nALONSO:\\nNo, no, he's gone.\\n\\nSEBASTIAN:\\nSir, you may thank yourself for this great loss,\\nThat would not bless our Europe with your daughter,\\nBut rather lose her to an African;\\nWhere she at least is banish'd from your eye,\\nWho hath cause to wet the grief on't.\\n\\nALONSO:\\nPrithee, peace.\\n\\nSEBASTIAN:\\nYou were kneel'd to and importuned otherwise\\nBy all of us, and the fair soul herself\\nWeigh'd between loathness and obedience, at\\nWhich end o' the beam should bow. We have lost your\\nson,\\nI fear, for ever: Milan and Naples have\\nMore widows in them of this business' making\\nThan we bring men to comfort them:\\nThe fault's your own.\\n\\nALONSO:\\nSo is the dear'st o' the loss.\\n\\nGONZALO:\\nMy lord Sebastian,\\nThe truth you speak doth lack some gentleness\\nAnd time to speak it in: you rub the sore,\\nWhen you should bring the plaster.\\n\\nSEBASTIAN:\\nVery well.\\n\\nANTONIO:\\nAnd most chirurgeonly.\\n\\nGONZALO:\\nIt is foul weather in us all, good sir,\\nWhen you are cloudy.\\n\\nSEBASTIAN:\\nFoul weather?\\n\\nANTONIO:\\nVery foul.\\n\\nGONZALO:\\nHad I plantation of this isle, my lord,--\\n\\nANTONIO:\\nHe'ld sow't with nettle-seed.\\n\\nSEBASTIAN:\\nOr docks, or mallows.\\n\\nGONZALO:\\nAnd were the king on't, what would I do?\\n\\nSEBASTIAN:\\n'Scape being drunk for want of wine.\\n\\nGONZALO:\\nI' the commonwealth I would by contraries\\nExecute all things; for no kind of traffic\\nWould I admit; no name of magistrate;\\nLetters should not be known; riches, poverty,\\nAnd use of service, none; contract, succession,\\nBourn, bound of land, tilth, vineyard, none;\\nNo use of metal, corn, or wine, or oil;\\nNo occupation; all men idle, all;\\nAnd women too, but innocent and pure;\\nNo sovereignty;--\\n\\nSEBASTIAN:\\nYet he would be king on't.\\n\\nANTONIO:\\nThe latter end of his commonwealth forgets the\\nbeginning.\\n\\nGONZALO:\\nAll things in common nature should produce\\nWithout sweat or endeavour: treason, felony,\\nSword, pike, knife, gun, or need of any engine,\\nWould I not have; but nature should bring forth,\\nOf its own kind, all foison, all abundance,\\nTo feed my innocent people.\\n\\nSEBASTIAN:\\nNo marrying 'mong his subjects?\\n\\nANTONIO:\\nNone, man; all idle: whores and knaves.\\n\\nGONZALO:\\nI would with such perfection govern, sir,\\nTo excel the golden age.\\n\\nSEBASTIAN:\\nGod save his majesty!\\n\\nANTONIO:\\nLong live Gonzalo!\\n\\nGONZALO:\\nAnd,--do you mark me, sir?\\n\\nALONSO:\\nPrithee, no more: thou dost talk nothing to me.\\n\\nGONZALO:\\nI do well believe your highness; and\\ndid it to minister occasion to these gentlemen,\\nwho are of such sensible and nimble lungs that\\nthey always use to laugh at nothing.\\n\\nANTONIO:\\n'Twas you we laughed at.\\n\\nGONZALO:\\nWho in this kind of merry fooling am nothing\\nto you: so you may continue and laugh at\\nnothing still.\\n\\nANTONIO:\\nWhat a blow was there given!\\n\\nSEBASTIAN:\\nAn it had not fallen flat-long.\\n\\nGONZALO:\\nYou are gentlemen of brave metal; you would lift\\nthe moon out of her sphere, if she would continue\\nin it five weeks without changing.\\n\\nSEBASTIAN:\\nWe would so, and then go a bat-fowling.\\n\\nANTONIO:\\nNay, good my lord, be not angry.\\n\\nGONZALO:\\nNo, I warrant you; I will not adventure\\nmy discretion so weakly. Will you laugh\\nme asleep, for I am very heavy?\\n\\nANTONIO:\\nGo sleep, and hear us.\\n\\nALONSO:\\nWhat, all so soon asleep! I wish mine eyes\\nWould, with themselves, shut up my thoughts: I find\\nThey are inclined to do so.\\n\\nSEBASTIAN:\\nPlease you, sir,\\nDo not omit the heavy offer of it:\\nIt seldom visits sorrow; when it doth,\\nIt is a comforter.\\n\\nANTONIO:\\nWe two, my lord,\\nWill guard your person while you take your rest,\\nAnd watch your safety.\\n\\nALONSO:\\nThank you. Wondrous heavy.\\n\\nSEBASTIAN:\\nWhat a strange drowsiness possesses them!\\n\\nANTONIO:\\nIt is the quality o' the climate.\\n\\nSEBASTIAN:\\nWhy\\nDoth it not then our eyelids sink? I find not\\nMyself disposed to sleep.\\n\\nANTONIO:\\nNor I; my spirits are nimble.\\nThey fell together all, as by consent;\\nThey dropp'd, as by a thunder-stroke. What might,\\nWorthy Sebastian? O, what might?--No more:--\\nAnd yet me thinks I see it in thy face,\\nWhat thou shouldst be: the occasion speaks thee, and\\nMy strong imagination sees a crown\\nDropping upon thy head.\\n\\nSEBASTIAN:\\nWhat, art thou waking?\\n\\nANTONIO:\\nDo you not hear me speak?\\n\\nSEBASTIAN:\\nI do; and surely\\nIt is a sleepy language and thou speak'st\\nOut of thy sleep. What is it thou didst say?\\nThis is a strange repose, to be asleep\\nWith eyes wide open; standing, speaking, moving,\\nAnd yet so fast asleep.\\n\\nANTONIO:\\nNoble Sebastian,\\nThou let'st thy fortune sleep--die, rather; wink'st\\nWhiles thou art waking.\\n\"}"
      ]
     },
     "execution_count": 13,
     "metadata": {},
     "output_type": "execute_result"
    }
   ],
   "execution_count": 13
  },
  {
   "metadata": {},
   "cell_type": "markdown",
   "source": "2. Tokenization",
   "id": "dedcc437869ed0fe"
  },
  {
   "metadata": {
    "ExecuteTime": {
     "end_time": "2025-06-02T01:13:57.470457Z",
     "start_time": "2025-06-02T01:13:57.127038Z"
    }
   },
   "cell_type": "code",
   "source": [
    "from transformers import GPT2Tokenizer\n",
    "\n",
    "tokenizer = GPT2Tokenizer.from_pretrained(\"gpt2\")\n",
    "tokenizer.pad_token = tokenizer.eos_token"
   ],
   "id": "24913b54f8b0c901",
   "outputs": [],
   "execution_count": 14
  },
  {
   "metadata": {
    "ExecuteTime": {
     "end_time": "2025-06-02T01:42:09.621449Z",
     "start_time": "2025-06-02T01:42:08.186816Z"
    }
   },
   "cell_type": "code",
   "source": [
    "def tokenize_function(examples):\n",
    "    return tokenizer(examples['text'],\n",
    "                     truncation=True,\n",
    "                     max_length=512,\n",
    "                     padding='max_length')\n",
    "\n",
    "tokenized_data = dataset.map(tokenize_function, batched=True)"
   ],
   "id": "a12975d7b5a60ea5",
   "outputs": [],
   "execution_count": 17
  },
  {
   "metadata": {},
   "cell_type": "markdown",
   "source": "3. Model Initialization",
   "id": "1609643201a28dcf"
  },
  {
   "metadata": {
    "ExecuteTime": {
     "end_time": "2025-06-02T01:43:01.374575Z",
     "start_time": "2025-06-02T01:42:59.591887Z"
    }
   },
   "cell_type": "code",
   "source": "pip install hf_xet",
   "id": "a7f9550de758a5d3",
   "outputs": [
    {
     "name": "stdout",
     "output_type": "stream",
     "text": [
      "Defaulting to user installation because normal site-packages is not writeable\n",
      "Collecting hf_xet\n",
      "  Downloading hf_xet-1.1.2-cp37-abi3-win_amd64.whl.metadata (883 bytes)\n",
      "Downloading hf_xet-1.1.2-cp37-abi3-win_amd64.whl (2.7 MB)\n",
      "   ---------------------------------------- 0.0/2.7 MB ? eta -:--:--\n",
      "   ---------------------------------------- 2.7/2.7 MB 30.2 MB/s eta 0:00:00\n",
      "Installing collected packages: hf_xet\n",
      "Successfully installed hf_xet-1.1.2\n",
      "Note: you may need to restart the kernel to use updated packages.\n"
     ]
    }
   ],
   "execution_count": 18
  },
  {
   "metadata": {
    "ExecuteTime": {
     "end_time": "2025-06-02T01:43:05.630519Z",
     "start_time": "2025-06-02T01:43:05.163349Z"
    }
   },
   "cell_type": "code",
   "source": [
    "from transformers import GPT2LMHeadModel\n",
    "model = GPT2LMHeadModel.from_pretrained('gpt2')\n"
   ],
   "id": "77c25d8701c0a75",
   "outputs": [],
   "execution_count": 19
  },
  {
   "metadata": {},
   "cell_type": "markdown",
   "source": "4. Training Setup",
   "id": "b6eeb654a046512a"
  },
  {
   "metadata": {
    "ExecuteTime": {
     "end_time": "2025-06-02T01:56:51.668863Z",
     "start_time": "2025-06-02T01:56:51.597330Z"
    }
   },
   "cell_type": "code",
   "source": [
    "from transformers import TrainingArguments, Trainer\n",
    "\n",
    "training_args = TrainingArguments(\n",
    "    output_dir='./results',\n",
    "    num_train_epochs=3,\n",
    "    per_device_train_batch_size=4,\n",
    "    gradient_accumulation_steps=8,\n",
    "    learning_rate=2e-5,\n",
    "    fp16=True\n",
    ")\n",
    "\n",
    "trainer = Trainer(\n",
    "    model=model,\n",
    "    args=training_args,\n",
    "    train_dataset=tokenized_data['train'],\n",
    "    eval_dataset=tokenized_data['validation'],\n",
    ")"
   ],
   "id": "a9b5010f04a29543",
   "outputs": [],
   "execution_count": 20
  },
  {
   "metadata": {},
   "cell_type": "markdown",
   "source": "5. Start Training",
   "id": "98a91abddfb9688a"
  },
  {
   "metadata": {
    "ExecuteTime": {
     "end_time": "2025-06-02T01:58:43.931468Z",
     "start_time": "2025-06-02T01:58:42.032001Z"
    }
   },
   "cell_type": "code",
   "source": "trainer.train()",
   "id": "62bffc6fbebd6dbe",
   "outputs": [
    {
     "name": "stderr",
     "output_type": "stream",
     "text": [
      "C:\\Program Files\\Python313\\Lib\\site-packages\\torch\\utils\\data\\dataloader.py:665: UserWarning: 'pin_memory' argument is set as true but no accelerator is found, then device pinned memory won't be used.\n",
      "  warnings.warn(warn_msg)\n"
     ]
    },
    {
     "ename": "ValueError",
     "evalue": "The model did not return a loss from the inputs, only the following keys: logits,past_key_values. For reference, the inputs it received are input_ids,attention_mask.",
     "output_type": "error",
     "traceback": [
      "\u001B[31m---------------------------------------------------------------------------\u001B[39m",
      "\u001B[31mValueError\u001B[39m                                Traceback (most recent call last)",
      "\u001B[36mCell\u001B[39m\u001B[36m \u001B[39m\u001B[32mIn[21]\u001B[39m\u001B[32m, line 1\u001B[39m\n\u001B[32m----> \u001B[39m\u001B[32m1\u001B[39m \u001B[43mtrainer\u001B[49m\u001B[43m.\u001B[49m\u001B[43mtrain\u001B[49m\u001B[43m(\u001B[49m\u001B[43m)\u001B[49m\n",
      "\u001B[36mFile \u001B[39m\u001B[32m~\\AppData\\Roaming\\Python\\Python313\\site-packages\\transformers\\trainer.py:2240\u001B[39m, in \u001B[36mTrainer.train\u001B[39m\u001B[34m(self, resume_from_checkpoint, trial, ignore_keys_for_eval, **kwargs)\u001B[39m\n\u001B[32m   2238\u001B[39m         hf_hub_utils.enable_progress_bars()\n\u001B[32m   2239\u001B[39m \u001B[38;5;28;01melse\u001B[39;00m:\n\u001B[32m-> \u001B[39m\u001B[32m2240\u001B[39m     \u001B[38;5;28;01mreturn\u001B[39;00m \u001B[43minner_training_loop\u001B[49m\u001B[43m(\u001B[49m\n\u001B[32m   2241\u001B[39m \u001B[43m        \u001B[49m\u001B[43margs\u001B[49m\u001B[43m=\u001B[49m\u001B[43margs\u001B[49m\u001B[43m,\u001B[49m\n\u001B[32m   2242\u001B[39m \u001B[43m        \u001B[49m\u001B[43mresume_from_checkpoint\u001B[49m\u001B[43m=\u001B[49m\u001B[43mresume_from_checkpoint\u001B[49m\u001B[43m,\u001B[49m\n\u001B[32m   2243\u001B[39m \u001B[43m        \u001B[49m\u001B[43mtrial\u001B[49m\u001B[43m=\u001B[49m\u001B[43mtrial\u001B[49m\u001B[43m,\u001B[49m\n\u001B[32m   2244\u001B[39m \u001B[43m        \u001B[49m\u001B[43mignore_keys_for_eval\u001B[49m\u001B[43m=\u001B[49m\u001B[43mignore_keys_for_eval\u001B[49m\u001B[43m,\u001B[49m\n\u001B[32m   2245\u001B[39m \u001B[43m    \u001B[49m\u001B[43m)\u001B[49m\n",
      "\u001B[36mFile \u001B[39m\u001B[32m~\\AppData\\Roaming\\Python\\Python313\\site-packages\\transformers\\trainer.py:2555\u001B[39m, in \u001B[36mTrainer._inner_training_loop\u001B[39m\u001B[34m(self, batch_size, args, resume_from_checkpoint, trial, ignore_keys_for_eval)\u001B[39m\n\u001B[32m   2548\u001B[39m context = (\n\u001B[32m   2549\u001B[39m     functools.partial(\u001B[38;5;28mself\u001B[39m.accelerator.no_sync, model=model)\n\u001B[32m   2550\u001B[39m     \u001B[38;5;28;01mif\u001B[39;00m i != \u001B[38;5;28mlen\u001B[39m(batch_samples) - \u001B[32m1\u001B[39m\n\u001B[32m   2551\u001B[39m     \u001B[38;5;129;01mand\u001B[39;00m \u001B[38;5;28mself\u001B[39m.accelerator.distributed_type != DistributedType.DEEPSPEED\n\u001B[32m   2552\u001B[39m     \u001B[38;5;28;01melse\u001B[39;00m contextlib.nullcontext\n\u001B[32m   2553\u001B[39m )\n\u001B[32m   2554\u001B[39m \u001B[38;5;28;01mwith\u001B[39;00m context():\n\u001B[32m-> \u001B[39m\u001B[32m2555\u001B[39m     tr_loss_step = \u001B[38;5;28;43mself\u001B[39;49m\u001B[43m.\u001B[49m\u001B[43mtraining_step\u001B[49m\u001B[43m(\u001B[49m\u001B[43mmodel\u001B[49m\u001B[43m,\u001B[49m\u001B[43m \u001B[49m\u001B[43minputs\u001B[49m\u001B[43m,\u001B[49m\u001B[43m \u001B[49m\u001B[43mnum_items_in_batch\u001B[49m\u001B[43m)\u001B[49m\n\u001B[32m   2557\u001B[39m \u001B[38;5;28;01mif\u001B[39;00m (\n\u001B[32m   2558\u001B[39m     args.logging_nan_inf_filter\n\u001B[32m   2559\u001B[39m     \u001B[38;5;129;01mand\u001B[39;00m \u001B[38;5;129;01mnot\u001B[39;00m is_torch_xla_available()\n\u001B[32m   2560\u001B[39m     \u001B[38;5;129;01mand\u001B[39;00m (torch.isnan(tr_loss_step) \u001B[38;5;129;01mor\u001B[39;00m torch.isinf(tr_loss_step))\n\u001B[32m   2561\u001B[39m ):\n\u001B[32m   2562\u001B[39m     \u001B[38;5;66;03m# if loss is nan or inf simply add the average of previous logged losses\u001B[39;00m\n\u001B[32m   2563\u001B[39m     tr_loss = tr_loss + tr_loss / (\u001B[32m1\u001B[39m + \u001B[38;5;28mself\u001B[39m.state.global_step - \u001B[38;5;28mself\u001B[39m._globalstep_last_logged)\n",
      "\u001B[36mFile \u001B[39m\u001B[32m~\\AppData\\Roaming\\Python\\Python313\\site-packages\\transformers\\trainer.py:3745\u001B[39m, in \u001B[36mTrainer.training_step\u001B[39m\u001B[34m(self, model, inputs, num_items_in_batch)\u001B[39m\n\u001B[32m   3742\u001B[39m     \u001B[38;5;28;01mreturn\u001B[39;00m loss_mb.reduce_mean().detach().to(\u001B[38;5;28mself\u001B[39m.args.device)\n\u001B[32m   3744\u001B[39m \u001B[38;5;28;01mwith\u001B[39;00m \u001B[38;5;28mself\u001B[39m.compute_loss_context_manager():\n\u001B[32m-> \u001B[39m\u001B[32m3745\u001B[39m     loss = \u001B[38;5;28;43mself\u001B[39;49m\u001B[43m.\u001B[49m\u001B[43mcompute_loss\u001B[49m\u001B[43m(\u001B[49m\u001B[43mmodel\u001B[49m\u001B[43m,\u001B[49m\u001B[43m \u001B[49m\u001B[43minputs\u001B[49m\u001B[43m,\u001B[49m\u001B[43m \u001B[49m\u001B[43mnum_items_in_batch\u001B[49m\u001B[43m=\u001B[49m\u001B[43mnum_items_in_batch\u001B[49m\u001B[43m)\u001B[49m\n\u001B[32m   3747\u001B[39m \u001B[38;5;28;01mdel\u001B[39;00m inputs\n\u001B[32m   3748\u001B[39m \u001B[38;5;28;01mif\u001B[39;00m (\n\u001B[32m   3749\u001B[39m     \u001B[38;5;28mself\u001B[39m.args.torch_empty_cache_steps \u001B[38;5;129;01mis\u001B[39;00m \u001B[38;5;129;01mnot\u001B[39;00m \u001B[38;5;28;01mNone\u001B[39;00m\n\u001B[32m   3750\u001B[39m     \u001B[38;5;129;01mand\u001B[39;00m \u001B[38;5;28mself\u001B[39m.state.global_step % \u001B[38;5;28mself\u001B[39m.args.torch_empty_cache_steps == \u001B[32m0\u001B[39m\n\u001B[32m   3751\u001B[39m ):\n",
      "\u001B[36mFile \u001B[39m\u001B[32m~\\AppData\\Roaming\\Python\\Python313\\site-packages\\transformers\\trainer.py:3831\u001B[39m, in \u001B[36mTrainer.compute_loss\u001B[39m\u001B[34m(self, model, inputs, return_outputs, num_items_in_batch)\u001B[39m\n\u001B[32m   3829\u001B[39m \u001B[38;5;28;01melse\u001B[39;00m:\n\u001B[32m   3830\u001B[39m     \u001B[38;5;28;01mif\u001B[39;00m \u001B[38;5;28misinstance\u001B[39m(outputs, \u001B[38;5;28mdict\u001B[39m) \u001B[38;5;129;01mand\u001B[39;00m \u001B[33m\"\u001B[39m\u001B[33mloss\u001B[39m\u001B[33m\"\u001B[39m \u001B[38;5;129;01mnot\u001B[39;00m \u001B[38;5;129;01min\u001B[39;00m outputs:\n\u001B[32m-> \u001B[39m\u001B[32m3831\u001B[39m         \u001B[38;5;28;01mraise\u001B[39;00m \u001B[38;5;167;01mValueError\u001B[39;00m(\n\u001B[32m   3832\u001B[39m             \u001B[33m\"\u001B[39m\u001B[33mThe model did not return a loss from the inputs, only the following keys: \u001B[39m\u001B[33m\"\u001B[39m\n\u001B[32m   3833\u001B[39m             \u001B[33mf\u001B[39m\u001B[33m\"\u001B[39m\u001B[38;5;132;01m{\u001B[39;00m\u001B[33m'\u001B[39m\u001B[33m,\u001B[39m\u001B[33m'\u001B[39m.join(outputs.keys())\u001B[38;5;132;01m}\u001B[39;00m\u001B[33m. For reference, the inputs it received are \u001B[39m\u001B[38;5;132;01m{\u001B[39;00m\u001B[33m'\u001B[39m\u001B[33m,\u001B[39m\u001B[33m'\u001B[39m.join(inputs.keys())\u001B[38;5;132;01m}\u001B[39;00m\u001B[33m.\u001B[39m\u001B[33m\"\u001B[39m\n\u001B[32m   3834\u001B[39m         )\n\u001B[32m   3835\u001B[39m     \u001B[38;5;66;03m# We don't use .loss here since the model may return tuples instead of ModelOutput.\u001B[39;00m\n\u001B[32m   3836\u001B[39m     loss = outputs[\u001B[33m\"\u001B[39m\u001B[33mloss\u001B[39m\u001B[33m\"\u001B[39m] \u001B[38;5;28;01mif\u001B[39;00m \u001B[38;5;28misinstance\u001B[39m(outputs, \u001B[38;5;28mdict\u001B[39m) \u001B[38;5;28;01melse\u001B[39;00m outputs[\u001B[32m0\u001B[39m]\n",
      "\u001B[31mValueError\u001B[39m: The model did not return a loss from the inputs, only the following keys: logits,past_key_values. For reference, the inputs it received are input_ids,attention_mask."
     ]
    }
   ],
   "execution_count": 21
  },
  {
   "metadata": {},
   "cell_type": "code",
   "outputs": [],
   "execution_count": null,
   "source": "",
   "id": "60dd9a8ec196ae6e"
  }
 ],
 "metadata": {
  "kernelspec": {
   "display_name": "Python 3",
   "language": "python",
   "name": "python3"
  },
  "language_info": {
   "codemirror_mode": {
    "name": "ipython",
    "version": 2
   },
   "file_extension": ".py",
   "mimetype": "text/x-python",
   "name": "python",
   "nbconvert_exporter": "python",
   "pygments_lexer": "ipython2",
   "version": "2.7.6"
  }
 },
 "nbformat": 4,
 "nbformat_minor": 5
}
